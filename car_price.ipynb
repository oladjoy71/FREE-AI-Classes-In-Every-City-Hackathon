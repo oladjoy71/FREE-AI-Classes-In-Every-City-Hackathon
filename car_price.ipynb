{
 "cells": [
  {
   "cell_type": "markdown",
   "id": "a7db3dcf-e44a-4ce0-a324-476faedf8d59",
   "metadata": {},
   "source": []
  },
  {
   "cell_type": "code",
   "execution_count": 43,
   "id": "473be189-9678-45d8-b8e7-7858293240e9",
   "metadata": {},
   "outputs": [],
   "source": [
    "import pandas as pd \n",
    "import numpy as np\n",
    "import matplotlib.pyplot as plt\n",
    "import seaborn as sns\n",
    "from sklearn.preprocessing import LabelEncoder,PolynomialFeatures\n",
    "from sklearn.feature_extraction.text import CountVectorizer\n",
    "\n",
    "from sklearn.model_selection import train_test_split,KFold,cross_val_score, StratifiedKFold\n",
    "from sklearn.ensemble import RandomForestRegressor,ExtraTreesRegressor,BaggingRegressor,VotingRegressor,StackingRegressor\n",
    "from sklearn.metrics import mean_squared_error\n",
    "from sklearn.linear_model import LinearRegression\n",
    "from lightgbm import LGBMRegressor\n",
    "from xgboost import XGBRFRegressor,XGBRegressor\n",
    "from catboost import CatBoostRegressor\n",
    "\n",
    "\n",
    "sns.set()\n",
    "%matplotlib inline\n"
   ]
  },
  {
   "cell_type": "markdown",
   "id": "75b15873-ef5a-4716-a1dd-3eb7cc4d759e",
   "metadata": {},
   "source": []
  },
  {
   "cell_type": "code",
   "execution_count": 2,
   "id": "61e36ea0-4d5f-4a69-8c76-dd633f62944c",
   "metadata": {},
   "outputs": [],
   "source": [
    "data =  pd.read_csv('Train.csv')\n",
    "test_data =  pd.read_csv('Test.csv')\n",
    "sub = pd.read_csv('SampleSubmission.csv')"
   ]
  },
  {
   "cell_type": "code",
   "execution_count": 3,
   "id": "041d9e0f-f9ef-44d9-a319-529313c97311",
   "metadata": {},
   "outputs": [
    {
     "data": {
      "text/plain": [
       "(7205, 9)"
      ]
     },
     "execution_count": 3,
     "metadata": {},
     "output_type": "execute_result"
    }
   ],
   "source": [
    "data.shape"
   ]
  },
  {
   "cell_type": "markdown",
   "id": "6c232118-02eb-44bd-af2a-c81bf695b5bf",
   "metadata": {},
   "source": []
  },
  {
   "cell_type": "code",
   "execution_count": 4,
   "id": "55e367ac-9868-49b3-bbe0-eed2096f73da",
   "metadata": {},
   "outputs": [],
   "source": [
    "data = data[data['Amount (Million Naira)'].notnull()]\n",
    "\n",
    "target_col = data['Amount (Million Naira)']"
   ]
  },
  {
   "cell_type": "markdown",
   "id": "d84d4b2b-dd6a-4f05-b759-d7081a8c2d4f",
   "metadata": {},
   "source": []
  },
  {
   "cell_type": "code",
   "execution_count": 5,
   "id": "dd3ffb91-b92f-4477-b12a-00ab9150a3ed",
   "metadata": {},
   "outputs": [
    {
     "data": {
      "text/plain": [
       "((7188, 9), (2061, 8))"
      ]
     },
     "execution_count": 5,
     "metadata": {},
     "output_type": "execute_result"
    }
   ],
   "source": [
    "data.shape,test_data.shape"
   ]
  },
  {
   "cell_type": "markdown",
   "id": "6b130f24-86a0-4cb6-aee5-fa7640d7c745",
   "metadata": {},
   "source": []
  },
  {
   "cell_type": "code",
   "execution_count": 6,
   "id": "daf47c30-762c-4e43-8218-459a8bb92c53",
   "metadata": {},
   "outputs": [
    {
     "data": {
      "text/html": [
       "<div>\n",
       "<style scoped>\n",
       "    .dataframe tbody tr th:only-of-type {\n",
       "        vertical-align: middle;\n",
       "    }\n",
       "\n",
       "    .dataframe tbody tr th {\n",
       "        vertical-align: top;\n",
       "    }\n",
       "\n",
       "    .dataframe thead th {\n",
       "        text-align: right;\n",
       "    }\n",
       "</style>\n",
       "<table border=\"1\" class=\"dataframe\">\n",
       "  <thead>\n",
       "    <tr style=\"text-align: right;\">\n",
       "      <th></th>\n",
       "      <th>VehicleID</th>\n",
       "      <th>Location</th>\n",
       "      <th>Maker</th>\n",
       "      <th>Model</th>\n",
       "      <th>Year</th>\n",
       "      <th>Colour</th>\n",
       "      <th>Amount (Million Naira)</th>\n",
       "      <th>Type</th>\n",
       "      <th>Distance</th>\n",
       "    </tr>\n",
       "  </thead>\n",
       "  <tbody>\n",
       "    <tr>\n",
       "      <th>0</th>\n",
       "      <td>VHL12546</td>\n",
       "      <td>Abuja</td>\n",
       "      <td>Honda</td>\n",
       "      <td>Accord Coupe EX V-6</td>\n",
       "      <td>2,011</td>\n",
       "      <td>Silver</td>\n",
       "      <td>2.2</td>\n",
       "      <td>Nigerian Used</td>\n",
       "      <td>NaN</td>\n",
       "    </tr>\n",
       "    <tr>\n",
       "      <th>1</th>\n",
       "      <td>VHL18827</td>\n",
       "      <td>Ibadan</td>\n",
       "      <td>Hyundai</td>\n",
       "      <td>Sonata</td>\n",
       "      <td>2,012</td>\n",
       "      <td>Silver</td>\n",
       "      <td>3.5</td>\n",
       "      <td>Nigerian Used</td>\n",
       "      <td>125,000</td>\n",
       "    </tr>\n",
       "    <tr>\n",
       "      <th>2</th>\n",
       "      <td>VHL19499</td>\n",
       "      <td>Lagos</td>\n",
       "      <td>Lexus</td>\n",
       "      <td>RX 350</td>\n",
       "      <td>2,010</td>\n",
       "      <td>Red</td>\n",
       "      <td>9.2</td>\n",
       "      <td>Foreign Used</td>\n",
       "      <td>110,852</td>\n",
       "    </tr>\n",
       "    <tr>\n",
       "      <th>3</th>\n",
       "      <td>VHL17991</td>\n",
       "      <td>Abuja</td>\n",
       "      <td>Mercedes-Benz</td>\n",
       "      <td>GLE-Class</td>\n",
       "      <td>2,017</td>\n",
       "      <td>Blue</td>\n",
       "      <td>22.8</td>\n",
       "      <td>Foreign Used</td>\n",
       "      <td>30,000</td>\n",
       "    </tr>\n",
       "    <tr>\n",
       "      <th>4</th>\n",
       "      <td>VHL12170</td>\n",
       "      <td>Ibadan</td>\n",
       "      <td>Toyota</td>\n",
       "      <td>Highlander</td>\n",
       "      <td>2,002</td>\n",
       "      <td>Red</td>\n",
       "      <td>2.6</td>\n",
       "      <td>Nigerian Used</td>\n",
       "      <td>125,206</td>\n",
       "    </tr>\n",
       "  </tbody>\n",
       "</table>\n",
       "</div>"
      ],
      "text/plain": [
       "  VehicleID Location          Maker                Model   Year  Colour  \\\n",
       "0  VHL12546    Abuja          Honda  Accord Coupe EX V-6  2,011  Silver   \n",
       "1  VHL18827   Ibadan        Hyundai               Sonata  2,012  Silver   \n",
       "2  VHL19499    Lagos          Lexus               RX 350  2,010     Red   \n",
       "3  VHL17991    Abuja  Mercedes-Benz            GLE-Class  2,017    Blue   \n",
       "4  VHL12170   Ibadan         Toyota           Highlander  2,002     Red   \n",
       "\n",
       "   Amount (Million Naira)           Type Distance  \n",
       "0                     2.2  Nigerian Used      NaN  \n",
       "1                     3.5  Nigerian Used  125,000  \n",
       "2                     9.2   Foreign Used  110,852  \n",
       "3                    22.8   Foreign Used   30,000  \n",
       "4                     2.6  Nigerian Used  125,206  "
      ]
     },
     "execution_count": 6,
     "metadata": {},
     "output_type": "execute_result"
    }
   ],
   "source": [
    "data.head()"
   ]
  },
  {
   "cell_type": "code",
   "execution_count": 7,
   "id": "7a4472f2-4039-4e2f-9963-9dff98e6a443",
   "metadata": {},
   "outputs": [
    {
     "data": {
      "text/html": [
       "<div>\n",
       "<style scoped>\n",
       "    .dataframe tbody tr th:only-of-type {\n",
       "        vertical-align: middle;\n",
       "    }\n",
       "\n",
       "    .dataframe tbody tr th {\n",
       "        vertical-align: top;\n",
       "    }\n",
       "\n",
       "    .dataframe thead th {\n",
       "        text-align: right;\n",
       "    }\n",
       "</style>\n",
       "<table border=\"1\" class=\"dataframe\">\n",
       "  <thead>\n",
       "    <tr style=\"text-align: right;\">\n",
       "      <th></th>\n",
       "      <th>VehicleID</th>\n",
       "      <th>Location</th>\n",
       "      <th>Maker</th>\n",
       "      <th>Model</th>\n",
       "      <th>Year</th>\n",
       "      <th>Colour</th>\n",
       "      <th>Type</th>\n",
       "      <th>Distance</th>\n",
       "    </tr>\n",
       "  </thead>\n",
       "  <tbody>\n",
       "    <tr>\n",
       "      <th>0</th>\n",
       "      <td>VHL18518</td>\n",
       "      <td>Abuja</td>\n",
       "      <td>BMW</td>\n",
       "      <td>323i</td>\n",
       "      <td>2,008</td>\n",
       "      <td>White</td>\n",
       "      <td>Foreign Used</td>\n",
       "      <td>30524.0</td>\n",
       "    </tr>\n",
       "    <tr>\n",
       "      <th>1</th>\n",
       "      <td>VHL17149</td>\n",
       "      <td>Lagos</td>\n",
       "      <td>Toyota</td>\n",
       "      <td>Camry</td>\n",
       "      <td>2,013</td>\n",
       "      <td>White</td>\n",
       "      <td>Foreign Used</td>\n",
       "      <td>NaN</td>\n",
       "    </tr>\n",
       "    <tr>\n",
       "      <th>2</th>\n",
       "      <td>VHL10927</td>\n",
       "      <td>Lagos</td>\n",
       "      <td>Toyota</td>\n",
       "      <td>Highlander Limited V6</td>\n",
       "      <td>2,005</td>\n",
       "      <td>Gold</td>\n",
       "      <td>Foreign Used</td>\n",
       "      <td>NaN</td>\n",
       "    </tr>\n",
       "    <tr>\n",
       "      <th>3</th>\n",
       "      <td>VHL12909</td>\n",
       "      <td>Lagos</td>\n",
       "      <td>Toyota</td>\n",
       "      <td>Camry</td>\n",
       "      <td>2,011</td>\n",
       "      <td>Gray</td>\n",
       "      <td>Foreign Used</td>\n",
       "      <td>166839.0</td>\n",
       "    </tr>\n",
       "    <tr>\n",
       "      <th>4</th>\n",
       "      <td>VHL12348</td>\n",
       "      <td>Lagos</td>\n",
       "      <td>Lexus</td>\n",
       "      <td>ES 350 FWD</td>\n",
       "      <td>2,013</td>\n",
       "      <td>Red</td>\n",
       "      <td>Foreign Used</td>\n",
       "      <td>88862.0</td>\n",
       "    </tr>\n",
       "  </tbody>\n",
       "</table>\n",
       "</div>"
      ],
      "text/plain": [
       "  VehicleID Location   Maker                  Model   Year Colour  \\\n",
       "0  VHL18518    Abuja     BMW                   323i  2,008  White   \n",
       "1  VHL17149    Lagos  Toyota                  Camry  2,013  White   \n",
       "2  VHL10927    Lagos  Toyota  Highlander Limited V6  2,005   Gold   \n",
       "3  VHL12909    Lagos  Toyota                  Camry  2,011   Gray   \n",
       "4  VHL12348    Lagos   Lexus             ES 350 FWD  2,013    Red   \n",
       "\n",
       "           Type  Distance  \n",
       "0  Foreign Used   30524.0  \n",
       "1  Foreign Used       NaN  \n",
       "2  Foreign Used       NaN  \n",
       "3  Foreign Used  166839.0  \n",
       "4  Foreign Used   88862.0  "
      ]
     },
     "execution_count": 7,
     "metadata": {},
     "output_type": "execute_result"
    }
   ],
   "source": [
    "test_data.head()"
   ]
  },
  {
   "cell_type": "markdown",
   "id": "20d5da4d-6ad6-45bd-a8fe-ffe440825b65",
   "metadata": {},
   "source": []
  },
  {
   "cell_type": "code",
   "execution_count": 8,
   "id": "51430071-ab17-45bb-82ae-d77999e4c063",
   "metadata": {},
   "outputs": [
    {
     "data": {
      "text/plain": [
       "<AxesSubplot:>"
      ]
     },
     "execution_count": 8,
     "metadata": {},
     "output_type": "execute_result"
    },
    {
     "data": {
      "image/png": "[encoded data removed]",
      "text/plain": [
       "<Figure size 432x288 with 1 Axes>"
      ]
     },
     "metadata": {
      "needs_background": "light"
     },
     "output_type": "display_data"
    }
   ],
   "source": [
    "data.sort_values('Amount (Million Naira)')['Amount (Million Naira)'].reset_index(drop =True).plot()"
   ]
  },
  {
   "cell_type": "code",
   "execution_count": 9,
   "id": "b075c30c-35fe-41b7-98f0-651702759bbe",
   "metadata": {},
   "outputs": [
    {
     "data": {
      "text/html": [
       "<div>\n",
       "<style scoped>\n",
       "    .dataframe tbody tr th:only-of-type {\n",
       "        vertical-align: middle;\n",
       "    }\n",
       "\n",
       "    .dataframe tbody tr th {\n",
       "        vertical-align: top;\n",
       "    }\n",
       "\n",
       "    .dataframe thead th {\n",
       "        text-align: right;\n",
       "    }\n",
       "</style>\n",
       "<table border=\"1\" class=\"dataframe\">\n",
       "  <thead>\n",
       "    <tr style=\"text-align: right;\">\n",
       "      <th></th>\n",
       "      <th>Amount (Million Naira)</th>\n",
       "    </tr>\n",
       "  </thead>\n",
       "  <tbody>\n",
       "    <tr>\n",
       "      <th>count</th>\n",
       "      <td>7188.000000</td>\n",
       "    </tr>\n",
       "    <tr>\n",
       "      <th>mean</th>\n",
       "      <td>11.847999</td>\n",
       "    </tr>\n",
       "    <tr>\n",
       "      <th>std</th>\n",
       "      <td>25.318922</td>\n",
       "    </tr>\n",
       "    <tr>\n",
       "      <th>min</th>\n",
       "      <td>0.450000</td>\n",
       "    </tr>\n",
       "    <tr>\n",
       "      <th>25%</th>\n",
       "      <td>3.500000</td>\n",
       "    </tr>\n",
       "    <tr>\n",
       "      <th>50%</th>\n",
       "      <td>5.650000</td>\n",
       "    </tr>\n",
       "    <tr>\n",
       "      <th>75%</th>\n",
       "      <td>11.662500</td>\n",
       "    </tr>\n",
       "    <tr>\n",
       "      <th>max</th>\n",
       "      <td>456.000000</td>\n",
       "    </tr>\n",
       "  </tbody>\n",
       "</table>\n",
       "</div>"
      ],
      "text/plain": [
       "       Amount (Million Naira)\n",
       "count             7188.000000\n",
       "mean                11.847999\n",
       "std                 25.318922\n",
       "min                  0.450000\n",
       "25%                  3.500000\n",
       "50%                  5.650000\n",
       "75%                 11.662500\n",
       "max                456.000000"
      ]
     },
     "execution_count": 9,
     "metadata": {},
     "output_type": "execute_result"
    }
   ],
   "source": [
    "data.describe()"
   ]
  },
  {
   "cell_type": "markdown",
   "id": "c80461d5-aac5-4f59-bae9-6b1b5747d59f",
   "metadata": {},
   "source": []
  },
  {
   "cell_type": "code",
   "execution_count": 10,
   "id": "9da7b930-391c-4a25-b9a9-801588bf5f90",
   "metadata": {},
   "outputs": [
    {
     "data": {
      "text/plain": [
       "VehicleID                    0\n",
       "Location                     0\n",
       "Maker                        0\n",
       "Model                        0\n",
       "Year                        21\n",
       "Colour                       0\n",
       "Amount (Million Naira)       0\n",
       "Type                       196\n",
       "Distance                  2352\n",
       "dtype: int64"
      ]
     },
     "execution_count": 10,
     "metadata": {},
     "output_type": "execute_result"
    }
   ],
   "source": [
    "data.isnull().sum()"
   ]
  },
  {
   "cell_type": "code",
   "execution_count": 11,
   "id": "3726d329-f765-4a68-a98d-bfdcdbea9ae9",
   "metadata": {},
   "outputs": [
    {
     "data": {
      "text/plain": [
       "VehicleID      0\n",
       "Location       0\n",
       "Maker          0\n",
       "Model          0\n",
       "Year           2\n",
       "Colour         0\n",
       "Type          54\n",
       "Distance     676\n",
       "dtype: int64"
      ]
     },
     "execution_count": 11,
     "metadata": {},
     "output_type": "execute_result"
    }
   ],
   "source": [
    "test_data.isnull().sum()"
   ]
  },
  {
   "cell_type": "markdown",
   "id": "5e2da21b-841e-4e47-84ac-3e26f5ef7cd1",
   "metadata": {},
   "source": []
  },
  {
   "cell_type": "markdown",
   "id": "4a1b0bc4-0115-47cc-864d-78610bd95359",
   "metadata": {},
   "source": []
  },
  {
   "cell_type": "markdown",
   "id": "11cb47d5-a482-4d9e-be46-c9b771f46dfd",
   "metadata": {
    "tags": []
   },
   "source": []
  },
  {
   "cell_type": "code",
   "execution_count": 12,
   "id": "d5c30272-2568-4aa8-a99b-ef0cd906999f",
   "metadata": {},
   "outputs": [
    {
     "name": "stdout",
     "output_type": "stream",
     "text": [
      "VehicleID ::::::  5129\n",
      "Location ::::::  3\n",
      "Maker ::::::  55\n",
      "Model ::::::  1221\n",
      "Year ::::::  33\n",
      "Colour ::::::  21\n",
      "Amount (Million Naira) ::::::  742\n",
      "Type ::::::  3\n",
      "Distance ::::::  3140\n"
     ]
    }
   ],
   "source": [
    "for column in data.columns:\n",
    "    print(column,\":::::: \",data[column].nunique())"
   ]
  },
  {
   "cell_type": "markdown",
   "id": "045ab837-6080-4fc2-9764-64e6dbb93f78",
   "metadata": {
    "tags": []
   },
   "source": []
  },
  {
   "cell_type": "code",
   "execution_count": 13,
   "id": "e0f29f06-dfda-430d-92b8-4faa1067d008",
   "metadata": {},
   "outputs": [
    {
     "name": "stdout",
     "output_type": "stream",
     "text": [
      "VehicleID ::::::  1873\n",
      "Location ::::::  3\n",
      "Maker ::::::  40\n",
      "Model ::::::  587\n",
      "Year ::::::  29\n",
      "Colour ::::::  18\n",
      "Type ::::::  3\n",
      "Distance ::::::  1020\n"
     ]
    }
   ],
   "source": [
    "for column in test_data.columns:\n",
    "    print(column,\":::::: \",test_data[column].nunique())"
   ]
  },
  {
   "cell_type": "markdown",
   "id": "133a44cd-9b06-48a1-b75b-a23f5f7c59dd",
   "metadata": {
    "jp-MarkdownHeadingCollapsed": true,
    "tags": []
   },
   "source": []
  },
  {
   "cell_type": "markdown",
   "id": "e51baa34-ba42-4216-8aa4-f6c131637f9d",
   "metadata": {},
   "source": []
  },
  {
   "cell_type": "code",
   "execution_count": 14,
   "id": "ffe784a8-9a53-4ddc-a900-21266756fb24",
   "metadata": {},
   "outputs": [
    {
     "data": {
      "text/plain": [
       "<AxesSubplot:ylabel='index'>"
      ]
     },
     "execution_count": 14,
     "metadata": {},
     "output_type": "execute_result"
    },
    {
     "data": {
      "image/png": "[encoded data removed]",
      "text/plain": [
       "<Figure size 720x720 with 1 Axes>"
      ]
     },
     "metadata": {
      "needs_background": "light"
     },
     "output_type": "display_data"
    }
   ],
   "source": [
    "data.Year.value_counts().reset_index().sort_values('index').set_index('index').plot(kind = 'barh',figsize=(10,10))"
   ]
  },
  {
   "cell_type": "code",
   "execution_count": 15,
   "id": "d384f1a7-baf2-42b7-ad7c-9733fe59eae0",
   "metadata": {},
   "outputs": [
    {
     "data": {
      "text/plain": [
       "<AxesSubplot:ylabel='index'>"
      ]
     },
     "execution_count": 15,
     "metadata": {},
     "output_type": "execute_result"
    },
    {
     "data": {
      "image/png": "[encoded data removed]",
      "text/plain": [
       "<Figure size 720x720 with 1 Axes>"
      ]
     },
     "metadata": {
      "needs_background": "light"
     },
     "output_type": "display_data"
    }
   ],
   "source": [
    "test_data.Year.value_counts().reset_index().sort_values('index').set_index('index').plot(kind = 'barh',figsize=(10,10))"
   ]
  },
  {
   "cell_type": "markdown",
   "id": "85eb2d45-3610-4a00-92d1-02d4e5a165f8",
   "metadata": {},
   "source": []
  },
  {
   "cell_type": "code",
   "execution_count": 16,
   "id": "40cfc0d9-2394-4a44-aa46-dc7c2290273c",
   "metadata": {},
   "outputs": [
    {
     "data": {
      "text/plain": [
       "VHL12352    5\n",
       "VHL12773    5\n",
       "VHL17066    5\n",
       "VHL16443    5\n",
       "VHL14590    5\n",
       "Name: VehicleID, dtype: int64"
      ]
     },
     "execution_count": 16,
     "metadata": {},
     "output_type": "execute_result"
    }
   ],
   "source": [
    "data.VehicleID.value_counts().head()"
   ]
  },
  {
   "cell_type": "code",
   "execution_count": 17,
   "id": "ec4fc80b-60f5-4b30-be53-58bc4e3d4cf0",
   "metadata": {},
   "outputs": [
    {
     "data": {
      "text/html": [
       "<div>\n",
       "<style scoped>\n",
       "    .dataframe tbody tr th:only-of-type {\n",
       "        vertical-align: middle;\n",
       "    }\n",
       "\n",
       "    .dataframe tbody tr th {\n",
       "        vertical-align: top;\n",
       "    }\n",
       "\n",
       "    .dataframe thead th {\n",
       "        text-align: right;\n",
       "    }\n",
       "</style>\n",
       "<table border=\"1\" class=\"dataframe\">\n",
       "  <thead>\n",
       "    <tr style=\"text-align: right;\">\n",
       "      <th></th>\n",
       "      <th>VehicleID</th>\n",
       "      <th>Location</th>\n",
       "      <th>Maker</th>\n",
       "      <th>Model</th>\n",
       "      <th>Year</th>\n",
       "      <th>Colour</th>\n",
       "      <th>Amount (Million Naira)</th>\n",
       "      <th>Type</th>\n",
       "      <th>Distance</th>\n",
       "    </tr>\n",
       "  </thead>\n",
       "  <tbody>\n",
       "    <tr>\n",
       "      <th>1410</th>\n",
       "      <td>VHL18344</td>\n",
       "      <td>Lagos</td>\n",
       "      <td>Toyota</td>\n",
       "      <td>Camry SE FWD (2.5L 4cyl 8AM)</td>\n",
       "      <td>2,018</td>\n",
       "      <td>Black</td>\n",
       "      <td>11.6</td>\n",
       "      <td>Foreign Used</td>\n",
       "      <td>NaN</td>\n",
       "    </tr>\n",
       "    <tr>\n",
       "      <th>2106</th>\n",
       "      <td>VHL18344</td>\n",
       "      <td>Lagos</td>\n",
       "      <td>Toyota</td>\n",
       "      <td>Tacoma 4x4 Access Cab</td>\n",
       "      <td>2,008</td>\n",
       "      <td>White</td>\n",
       "      <td>6.0</td>\n",
       "      <td>Foreign Used</td>\n",
       "      <td>145,000</td>\n",
       "    </tr>\n",
       "    <tr>\n",
       "      <th>4729</th>\n",
       "      <td>VHL18344</td>\n",
       "      <td>Lagos</td>\n",
       "      <td>Toyota</td>\n",
       "      <td>4-Runner</td>\n",
       "      <td>2,000</td>\n",
       "      <td>Silver</td>\n",
       "      <td>3.2</td>\n",
       "      <td>Foreign Used</td>\n",
       "      <td>80,965</td>\n",
       "    </tr>\n",
       "    <tr>\n",
       "      <th>5059</th>\n",
       "      <td>VHL18344</td>\n",
       "      <td>Lagos</td>\n",
       "      <td>Lexus</td>\n",
       "      <td>LX</td>\n",
       "      <td>2,021</td>\n",
       "      <td>Gold</td>\n",
       "      <td>95.0</td>\n",
       "      <td>Brand New</td>\n",
       "      <td>2,000</td>\n",
       "    </tr>\n",
       "    <tr>\n",
       "      <th>6022</th>\n",
       "      <td>VHL18344</td>\n",
       "      <td>Abuja</td>\n",
       "      <td>Toyota</td>\n",
       "      <td>Highlander Limited 4x4</td>\n",
       "      <td>2,009</td>\n",
       "      <td>Gray</td>\n",
       "      <td>4.5</td>\n",
       "      <td>Nigerian Used</td>\n",
       "      <td>NaN</td>\n",
       "    </tr>\n",
       "  </tbody>\n",
       "</table>\n",
       "</div>"
      ],
      "text/plain": [
       "     VehicleID Location   Maker                         Model   Year  Colour  \\\n",
       "1410  VHL18344    Lagos  Toyota  Camry SE FWD (2.5L 4cyl 8AM)  2,018   Black   \n",
       "2106  VHL18344    Lagos  Toyota         Tacoma 4x4 Access Cab  2,008   White   \n",
       "4729  VHL18344    Lagos  Toyota                      4-Runner  2,000  Silver   \n",
       "5059  VHL18344    Lagos   Lexus                            LX  2,021    Gold   \n",
       "6022  VHL18344    Abuja  Toyota        Highlander Limited 4x4  2,009    Gray   \n",
       "\n",
       "      Amount (Million Naira)           Type Distance  \n",
       "1410                    11.6   Foreign Used      NaN  \n",
       "2106                     6.0   Foreign Used  145,000  \n",
       "4729                     3.2   Foreign Used   80,965  \n",
       "5059                    95.0      Brand New    2,000  \n",
       "6022                     4.5  Nigerian Used      NaN  "
      ]
     },
     "execution_count": 17,
     "metadata": {},
     "output_type": "execute_result"
    }
   ],
   "source": [
    "data[data.VehicleID == 'VHL18344']"
   ]
  },
  {
   "cell_type": "code",
   "execution_count": 18,
   "id": "4af58c94-6910-4497-a60e-d48b8eb213ee",
   "metadata": {},
   "outputs": [
    {
     "data": {
      "text/html": [
       "<div>\n",
       "<style scoped>\n",
       "    .dataframe tbody tr th:only-of-type {\n",
       "        vertical-align: middle;\n",
       "    }\n",
       "\n",
       "    .dataframe tbody tr th {\n",
       "        vertical-align: top;\n",
       "    }\n",
       "\n",
       "    .dataframe thead th {\n",
       "        text-align: right;\n",
       "    }\n",
       "</style>\n",
       "<table border=\"1\" class=\"dataframe\">\n",
       "  <thead>\n",
       "    <tr style=\"text-align: right;\">\n",
       "      <th></th>\n",
       "      <th>VehicleID</th>\n",
       "      <th>Location</th>\n",
       "      <th>Maker</th>\n",
       "      <th>Model</th>\n",
       "      <th>Year</th>\n",
       "      <th>Colour</th>\n",
       "      <th>Amount (Million Naira)</th>\n",
       "      <th>Type</th>\n",
       "      <th>Distance</th>\n",
       "    </tr>\n",
       "  </thead>\n",
       "  <tbody>\n",
       "    <tr>\n",
       "      <th>1410</th>\n",
       "      <td>VHL18344</td>\n",
       "      <td>Lagos</td>\n",
       "      <td>Toyota</td>\n",
       "      <td>Camry SE FWD (2.5L 4cyl 8AM)</td>\n",
       "      <td>2,018</td>\n",
       "      <td>Black</td>\n",
       "      <td>11.6</td>\n",
       "      <td>Foreign Used</td>\n",
       "      <td>NaN</td>\n",
       "    </tr>\n",
       "    <tr>\n",
       "      <th>2106</th>\n",
       "      <td>VHL18344</td>\n",
       "      <td>Lagos</td>\n",
       "      <td>Toyota</td>\n",
       "      <td>Tacoma 4x4 Access Cab</td>\n",
       "      <td>2,008</td>\n",
       "      <td>White</td>\n",
       "      <td>6.0</td>\n",
       "      <td>Foreign Used</td>\n",
       "      <td>145,000</td>\n",
       "    </tr>\n",
       "    <tr>\n",
       "      <th>4729</th>\n",
       "      <td>VHL18344</td>\n",
       "      <td>Lagos</td>\n",
       "      <td>Toyota</td>\n",
       "      <td>4-Runner</td>\n",
       "      <td>2,000</td>\n",
       "      <td>Silver</td>\n",
       "      <td>3.2</td>\n",
       "      <td>Foreign Used</td>\n",
       "      <td>80,965</td>\n",
       "    </tr>\n",
       "    <tr>\n",
       "      <th>5059</th>\n",
       "      <td>VHL18344</td>\n",
       "      <td>Lagos</td>\n",
       "      <td>Lexus</td>\n",
       "      <td>LX</td>\n",
       "      <td>2,021</td>\n",
       "      <td>Gold</td>\n",
       "      <td>95.0</td>\n",
       "      <td>Brand New</td>\n",
       "      <td>2,000</td>\n",
       "    </tr>\n",
       "    <tr>\n",
       "      <th>6022</th>\n",
       "      <td>VHL18344</td>\n",
       "      <td>Abuja</td>\n",
       "      <td>Toyota</td>\n",
       "      <td>Highlander Limited 4x4</td>\n",
       "      <td>2,009</td>\n",
       "      <td>Gray</td>\n",
       "      <td>4.5</td>\n",
       "      <td>Nigerian Used</td>\n",
       "      <td>NaN</td>\n",
       "    </tr>\n",
       "  </tbody>\n",
       "</table>\n",
       "</div>"
      ],
      "text/plain": [
       "     VehicleID Location   Maker                         Model   Year  Colour  \\\n",
       "1410  VHL18344    Lagos  Toyota  Camry SE FWD (2.5L 4cyl 8AM)  2,018   Black   \n",
       "2106  VHL18344    Lagos  Toyota         Tacoma 4x4 Access Cab  2,008   White   \n",
       "4729  VHL18344    Lagos  Toyota                      4-Runner  2,000  Silver   \n",
       "5059  VHL18344    Lagos   Lexus                            LX  2,021    Gold   \n",
       "6022  VHL18344    Abuja  Toyota        Highlander Limited 4x4  2,009    Gray   \n",
       "\n",
       "      Amount (Million Naira)           Type Distance  \n",
       "1410                    11.6   Foreign Used      NaN  \n",
       "2106                     6.0   Foreign Used  145,000  \n",
       "4729                     3.2   Foreign Used   80,965  \n",
       "5059                    95.0      Brand New    2,000  \n",
       "6022                     4.5  Nigerian Used      NaN  "
      ]
     },
     "execution_count": 18,
     "metadata": {},
     "output_type": "execute_result"
    }
   ],
   "source": [
    "data[data.VehicleID == 'VHL18344']"
   ]
  },
  {
   "cell_type": "code",
   "execution_count": 19,
   "id": "16278f0f-6e46-45f6-9b6f-04ad8d1370be",
   "metadata": {},
   "outputs": [
    {
     "data": {
      "text/html": [
       "<div>\n",
       "<style scoped>\n",
       "    .dataframe tbody tr th:only-of-type {\n",
       "        vertical-align: middle;\n",
       "    }\n",
       "\n",
       "    .dataframe tbody tr th {\n",
       "        vertical-align: top;\n",
       "    }\n",
       "\n",
       "    .dataframe thead th {\n",
       "        text-align: right;\n",
       "    }\n",
       "</style>\n",
       "<table border=\"1\" class=\"dataframe\">\n",
       "  <thead>\n",
       "    <tr style=\"text-align: right;\">\n",
       "      <th></th>\n",
       "      <th>VehicleID</th>\n",
       "      <th>Location</th>\n",
       "      <th>Maker</th>\n",
       "      <th>Model</th>\n",
       "      <th>Year</th>\n",
       "      <th>Colour</th>\n",
       "      <th>Amount (Million Naira)</th>\n",
       "      <th>Type</th>\n",
       "      <th>Distance</th>\n",
       "    </tr>\n",
       "  </thead>\n",
       "  <tbody>\n",
       "    <tr>\n",
       "      <th>583</th>\n",
       "      <td>VHL14590</td>\n",
       "      <td>Abuja</td>\n",
       "      <td>Toyota</td>\n",
       "      <td>FJ Cruiser Base 4x4</td>\n",
       "      <td>2,008</td>\n",
       "      <td>Blue</td>\n",
       "      <td>4.5</td>\n",
       "      <td>Foreign Used</td>\n",
       "      <td>NaN</td>\n",
       "    </tr>\n",
       "    <tr>\n",
       "      <th>982</th>\n",
       "      <td>VHL14590</td>\n",
       "      <td>Ibadan</td>\n",
       "      <td>Nissan</td>\n",
       "      <td>Micra</td>\n",
       "      <td>2,001</td>\n",
       "      <td>Green</td>\n",
       "      <td>1.4</td>\n",
       "      <td>Foreign Used</td>\n",
       "      <td>75,000</td>\n",
       "    </tr>\n",
       "    <tr>\n",
       "      <th>2475</th>\n",
       "      <td>VHL14590</td>\n",
       "      <td>Abuja</td>\n",
       "      <td>Mercedes-Benz</td>\n",
       "      <td>E350</td>\n",
       "      <td>2,010</td>\n",
       "      <td>Silver</td>\n",
       "      <td>6.8</td>\n",
       "      <td>Foreign Used</td>\n",
       "      <td>85,231</td>\n",
       "    </tr>\n",
       "    <tr>\n",
       "      <th>4300</th>\n",
       "      <td>VHL14590</td>\n",
       "      <td>Lagos</td>\n",
       "      <td>Mercedes-Benz</td>\n",
       "      <td>GL-Class</td>\n",
       "      <td>2,007</td>\n",
       "      <td>Black</td>\n",
       "      <td>2.5</td>\n",
       "      <td>Nigerian Used</td>\n",
       "      <td>1,324,810</td>\n",
       "    </tr>\n",
       "    <tr>\n",
       "      <th>6883</th>\n",
       "      <td>VHL14590</td>\n",
       "      <td>Lagos</td>\n",
       "      <td>Lexus</td>\n",
       "      <td>RX 350 F Sport AWD</td>\n",
       "      <td>2,019</td>\n",
       "      <td>White</td>\n",
       "      <td>23.8</td>\n",
       "      <td>Foreign Used</td>\n",
       "      <td>4,418</td>\n",
       "    </tr>\n",
       "  </tbody>\n",
       "</table>\n",
       "</div>"
      ],
      "text/plain": [
       "     VehicleID Location          Maker                Model   Year  Colour  \\\n",
       "583   VHL14590    Abuja         Toyota  FJ Cruiser Base 4x4  2,008    Blue   \n",
       "982   VHL14590   Ibadan         Nissan                Micra  2,001   Green   \n",
       "2475  VHL14590    Abuja  Mercedes-Benz                 E350  2,010  Silver   \n",
       "4300  VHL14590    Lagos  Mercedes-Benz             GL-Class  2,007   Black   \n",
       "6883  VHL14590    Lagos          Lexus   RX 350 F Sport AWD  2,019   White   \n",
       "\n",
       "      Amount (Million Naira)           Type   Distance  \n",
       "583                      4.5   Foreign Used        NaN  \n",
       "982                      1.4   Foreign Used     75,000  \n",
       "2475                     6.8   Foreign Used     85,231  \n",
       "4300                     2.5  Nigerian Used  1,324,810  \n",
       "6883                    23.8   Foreign Used      4,418  "
      ]
     },
     "execution_count": 19,
     "metadata": {},
     "output_type": "execute_result"
    }
   ],
   "source": [
    "data[data.VehicleID == 'VHL14590']"
   ]
  },
  {
   "cell_type": "markdown",
   "id": "d92ed163-bd7c-4800-86e7-04c489c26ef6",
   "metadata": {},
   "source": []
  },
  {
   "cell_type": "markdown",
   "id": "4c5bb55f-cce2-47e7-b43a-8776a5f1820a",
   "metadata": {},
   "source": []
  },
  {
   "cell_type": "code",
   "execution_count": 20,
   "id": "028084a2-fee5-4847-9ec8-b47331bcf847",
   "metadata": {},
   "outputs": [],
   "source": [
    "data['train']  =1\n",
    "test_data['train']  =0"
   ]
  },
  {
   "cell_type": "markdown",
   "id": "e0a9442b-2272-48e5-98be-d200795977a8",
   "metadata": {},
   "source": []
  },
  {
   "cell_type": "code",
   "execution_count": 21,
   "id": "3592b052-bf3c-4cdf-a9d7-d4f828242a9c",
   "metadata": {},
   "outputs": [],
   "source": [
    "all_data = pd.concat([data.drop('Amount (Million Naira)',axis  =  1),test_data]).reset_index(drop = True)"
   ]
  },
  {
   "cell_type": "code",
   "execution_count": 22,
   "id": "1bade7ee-6c33-4e6a-bb41-861078ad4be4",
   "metadata": {},
   "outputs": [
    {
     "data": {
      "text/plain": [
       "(9249, 9)"
      ]
     },
     "execution_count": 22,
     "metadata": {},
     "output_type": "execute_result"
    }
   ],
   "source": [
    "all_data.shape"
   ]
  },
  {
   "cell_type": "code",
   "execution_count": 23,
   "id": "0531a915",
   "metadata": {},
   "outputs": [
    {
     "data": {
      "text/plain": [
       "VehicleID       0\n",
       "Location        0\n",
       "Maker           0\n",
       "Model           0\n",
       "Year           23\n",
       "Colour          0\n",
       "Type          250\n",
       "Distance     3028\n",
       "train           0\n",
       "dtype: int64"
      ]
     },
     "execution_count": 23,
     "metadata": {},
     "output_type": "execute_result"
    }
   ],
   "source": [
    "all_data.isnull().sum()"
   ]
  },
  {
   "cell_type": "code",
   "execution_count": 24,
   "id": "b504f753",
   "metadata": {},
   "outputs": [],
   "source": [
    "all_data[\"Year\"].fillna(\"2,008\", inplace=True)\n",
    "all_data[\"Type\"].fillna(\"Foreign Used\", inplace=True)"
   ]
  },
  {
   "cell_type": "code",
   "execution_count": 25,
   "id": "d18ea838-5b9f-422d-828f-745c5d072271",
   "metadata": {},
   "outputs": [
    {
     "data": {
      "text/html": [
       "<div>\n",
       "<style scoped>\n",
       "    .dataframe tbody tr th:only-of-type {\n",
       "        vertical-align: middle;\n",
       "    }\n",
       "\n",
       "    .dataframe tbody tr th {\n",
       "        vertical-align: top;\n",
       "    }\n",
       "\n",
       "    .dataframe thead th {\n",
       "        text-align: right;\n",
       "    }\n",
       "</style>\n",
       "<table border=\"1\" class=\"dataframe\">\n",
       "  <thead>\n",
       "    <tr style=\"text-align: right;\">\n",
       "      <th></th>\n",
       "      <th>Year</th>\n",
       "      <th>Maker</th>\n",
       "      <th>Model</th>\n",
       "      <th>Colour</th>\n",
       "      <th>Type</th>\n",
       "    </tr>\n",
       "  </thead>\n",
       "  <tbody>\n",
       "    <tr>\n",
       "      <th>0</th>\n",
       "      <td>2,011</td>\n",
       "      <td>Honda</td>\n",
       "      <td>Accord Coupe EX V-6</td>\n",
       "      <td>Silver</td>\n",
       "      <td>Nigerian Used</td>\n",
       "    </tr>\n",
       "  </tbody>\n",
       "</table>\n",
       "</div>"
      ],
      "text/plain": [
       "    Year  Maker                Model  Colour           Type\n",
       "0  2,011  Honda  Accord Coupe EX V-6  Silver  Nigerian Used"
      ]
     },
     "execution_count": 25,
     "metadata": {},
     "output_type": "execute_result"
    }
   ],
   "source": [
    "##before\n",
    "all_data[['Year', 'Maker', 'Model', 'Colour', 'Type']].head(1)"
   ]
  },
  {
   "cell_type": "code",
   "execution_count": 26,
   "id": "fcfbe07f-8e5a-4db6-8396-55b0108bbc5c",
   "metadata": {},
   "outputs": [
    {
     "data": {
      "text/plain": [
       "'2,011HondaAccord Coupe EX V-6SilverNigerian Used'"
      ]
     },
     "execution_count": 26,
     "metadata": {},
     "output_type": "execute_result"
    }
   ],
   "source": [
    "##after\n",
    "''.join(all_data[['Year', 'Maker', 'Model', 'Colour', 'Type']].astype(str).iloc[0].values)"
   ]
  },
  {
   "cell_type": "code",
   "execution_count": null,
   "id": "23d0853a-cb80-405f-b1c5-ca06426c41f4",
   "metadata": {},
   "outputs": [],
   "source": []
  },
  {
   "cell_type": "code",
   "execution_count": 27,
   "id": "31d10671-0324-4f59-9392-f272da023976",
   "metadata": {},
   "outputs": [],
   "source": [
    "mashup = [''.join(all_data[['Year', 'Maker', 'Model', 'Colour', 'Type']].astype(str).iloc[i].values) for i in range(len(all_data))]\n",
    "### \n",
    "mashup_cleaned = [mashup[i].strip().replace(',','') for i in range(len(mashup))]\n",
    "\n",
    "Vectorizer= CountVectorizer(\n",
    "                analyzer = \"char\",  \n",
    "                tokenizer = None,  \n",
    "                preprocessor = None, \n",
    "                stop_words = None,  \n",
    "                max_features = 5000,\n",
    ")\n",
    "Vectorizer.fit(mashup_cleaned)\n",
    "letter_array = Vectorizer.transform(mashup_cleaned).toarray()\n",
    "vocab = Vectorizer.vocabulary_\n",
    "letter_data = pd.DataFrame(letter_array,columns=vocab)"
   ]
  },
  {
   "cell_type": "code",
   "execution_count": 28,
   "id": "fa148dfe-c0e4-4729-bcd9-67a2197b6adc",
   "metadata": {},
   "outputs": [
    {
     "data": {
      "text/html": [
       "<div>\n",
       "<style scoped>\n",
       "    .dataframe tbody tr th:only-of-type {\n",
       "        vertical-align: middle;\n",
       "    }\n",
       "\n",
       "    .dataframe tbody tr th {\n",
       "        vertical-align: top;\n",
       "    }\n",
       "\n",
       "    .dataframe thead th {\n",
       "        text-align: right;\n",
       "    }\n",
       "</style>\n",
       "<table border=\"1\" class=\"dataframe\">\n",
       "  <thead>\n",
       "    <tr style=\"text-align: right;\">\n",
       "      <th></th>\n",
       "      <th>2</th>\n",
       "      <th>0</th>\n",
       "      <th>1</th>\n",
       "      <th>h</th>\n",
       "      <th>o</th>\n",
       "      <th>n</th>\n",
       "      <th>d</th>\n",
       "      <th>a</th>\n",
       "      <th>c</th>\n",
       "      <th>r</th>\n",
       "      <th>...</th>\n",
       "      <th>4</th>\n",
       "      <th>.</th>\n",
       "      <th>8</th>\n",
       "      <th>+</th>\n",
       "      <th>(</th>\n",
       "      <th>)</th>\n",
       "      <th>q</th>\n",
       "      <th>j</th>\n",
       "      <th>/</th>\n",
       "      <th>&amp;</th>\n",
       "    </tr>\n",
       "  </thead>\n",
       "  <tbody>\n",
       "    <tr>\n",
       "      <th>0</th>\n",
       "      <td>4</td>\n",
       "      <td>0</td>\n",
       "      <td>0</td>\n",
       "      <td>0</td>\n",
       "      <td>0</td>\n",
       "      <td>1</td>\n",
       "      <td>0</td>\n",
       "      <td>0</td>\n",
       "      <td>1</td>\n",
       "      <td>2</td>\n",
       "      <td>...</td>\n",
       "      <td>0</td>\n",
       "      <td>3</td>\n",
       "      <td>2</td>\n",
       "      <td>0</td>\n",
       "      <td>2</td>\n",
       "      <td>2</td>\n",
       "      <td>0</td>\n",
       "      <td>1</td>\n",
       "      <td>0</td>\n",
       "      <td>0</td>\n",
       "    </tr>\n",
       "    <tr>\n",
       "      <th>1</th>\n",
       "      <td>1</td>\n",
       "      <td>0</td>\n",
       "      <td>0</td>\n",
       "      <td>0</td>\n",
       "      <td>0</td>\n",
       "      <td>0</td>\n",
       "      <td>0</td>\n",
       "      <td>0</td>\n",
       "      <td>1</td>\n",
       "      <td>1</td>\n",
       "      <td>...</td>\n",
       "      <td>0</td>\n",
       "      <td>2</td>\n",
       "      <td>3</td>\n",
       "      <td>1</td>\n",
       "      <td>2</td>\n",
       "      <td>1</td>\n",
       "      <td>0</td>\n",
       "      <td>0</td>\n",
       "      <td>1</td>\n",
       "      <td>0</td>\n",
       "    </tr>\n",
       "    <tr>\n",
       "      <th>2</th>\n",
       "      <td>2</td>\n",
       "      <td>0</td>\n",
       "      <td>0</td>\n",
       "      <td>0</td>\n",
       "      <td>0</td>\n",
       "      <td>0</td>\n",
       "      <td>0</td>\n",
       "      <td>0</td>\n",
       "      <td>3</td>\n",
       "      <td>1</td>\n",
       "      <td>...</td>\n",
       "      <td>0</td>\n",
       "      <td>3</td>\n",
       "      <td>2</td>\n",
       "      <td>0</td>\n",
       "      <td>2</td>\n",
       "      <td>0</td>\n",
       "      <td>0</td>\n",
       "      <td>2</td>\n",
       "      <td>0</td>\n",
       "      <td>0</td>\n",
       "    </tr>\n",
       "    <tr>\n",
       "      <th>3</th>\n",
       "      <td>1</td>\n",
       "      <td>0</td>\n",
       "      <td>0</td>\n",
       "      <td>0</td>\n",
       "      <td>0</td>\n",
       "      <td>2</td>\n",
       "      <td>0</td>\n",
       "      <td>0</td>\n",
       "      <td>1</td>\n",
       "      <td>1</td>\n",
       "      <td>...</td>\n",
       "      <td>0</td>\n",
       "      <td>2</td>\n",
       "      <td>4</td>\n",
       "      <td>0</td>\n",
       "      <td>2</td>\n",
       "      <td>0</td>\n",
       "      <td>0</td>\n",
       "      <td>0</td>\n",
       "      <td>0</td>\n",
       "      <td>1</td>\n",
       "    </tr>\n",
       "    <tr>\n",
       "      <th>4</th>\n",
       "      <td>1</td>\n",
       "      <td>0</td>\n",
       "      <td>0</td>\n",
       "      <td>0</td>\n",
       "      <td>0</td>\n",
       "      <td>0</td>\n",
       "      <td>0</td>\n",
       "      <td>0</td>\n",
       "      <td>2</td>\n",
       "      <td>0</td>\n",
       "      <td>...</td>\n",
       "      <td>0</td>\n",
       "      <td>3</td>\n",
       "      <td>1</td>\n",
       "      <td>2</td>\n",
       "      <td>1</td>\n",
       "      <td>0</td>\n",
       "      <td>0</td>\n",
       "      <td>0</td>\n",
       "      <td>1</td>\n",
       "      <td>0</td>\n",
       "    </tr>\n",
       "  </tbody>\n",
       "</table>\n",
       "<p>5 rows × 44 columns</p>\n",
       "</div>"
      ],
      "text/plain": [
       "   2  0  1  h  o  n  d  a  c  r  ...  4  .  8  +  (  )  q  j  /  &\n",
       "0  4  0  0  0  0  1  0  0  1  2  ...  0  3  2  0  2  2  0  1  0  0\n",
       "1  1  0  0  0  0  0  0  0  1  1  ...  0  2  3  1  2  1  0  0  1  0\n",
       "2  2  0  0  0  0  0  0  0  3  1  ...  0  3  2  0  2  0  0  2  0  0\n",
       "3  1  0  0  0  0  2  0  0  1  1  ...  0  2  4  0  2  0  0  0  0  1\n",
       "4  1  0  0  0  0  0  0  0  2  0  ...  0  3  1  2  1  0  0  0  1  0\n",
       "\n",
       "[5 rows x 44 columns]"
      ]
     },
     "execution_count": 28,
     "metadata": {},
     "output_type": "execute_result"
    }
   ],
   "source": [
    "letter_data.head()"
   ]
  },
  {
   "cell_type": "code",
   "execution_count": 29,
   "id": "b844570e-81da-4530-9823-1c5352c829e3",
   "metadata": {},
   "outputs": [],
   "source": [
    "cat_col = ['Location', 'Maker', 'Model', 'Year', 'Colour', 'Type']"
   ]
  },
  {
   "cell_type": "markdown",
   "id": "518cee00-2637-4b5d-a50f-118d28a9a825",
   "metadata": {},
   "source": []
  },
  {
   "cell_type": "code",
   "execution_count": 30,
   "id": "f7f37490-811e-4e61-ae9f-60fec7b04208",
   "metadata": {},
   "outputs": [],
   "source": [
    "for col in cat_col:\n",
    "    lab = LabelEncoder()#CountEncoder(normalize=True)\n",
    "    lab.fit(all_data[col])\n",
    "    all_data[col] = lab.transform(all_data[col])"
   ]
  },
  {
   "cell_type": "code",
   "execution_count": 31,
   "id": "332dc1ec-1861-4edc-acbc-1255a79457bc",
   "metadata": {},
   "outputs": [
    {
     "data": {
      "text/html": [
       "<div>\n",
       "<style scoped>\n",
       "    .dataframe tbody tr th:only-of-type {\n",
       "        vertical-align: middle;\n",
       "    }\n",
       "\n",
       "    .dataframe tbody tr th {\n",
       "        vertical-align: top;\n",
       "    }\n",
       "\n",
       "    .dataframe thead th {\n",
       "        text-align: right;\n",
       "    }\n",
       "</style>\n",
       "<table border=\"1\" class=\"dataframe\">\n",
       "  <thead>\n",
       "    <tr style=\"text-align: right;\">\n",
       "      <th></th>\n",
       "      <th>VehicleID</th>\n",
       "      <th>Location</th>\n",
       "      <th>Maker</th>\n",
       "      <th>Model</th>\n",
       "      <th>Year</th>\n",
       "      <th>Colour</th>\n",
       "      <th>Type</th>\n",
       "      <th>Distance</th>\n",
       "      <th>train</th>\n",
       "    </tr>\n",
       "  </thead>\n",
       "  <tbody>\n",
       "    <tr>\n",
       "      <th>0</th>\n",
       "      <td>VHL12546</td>\n",
       "      <td>0</td>\n",
       "      <td>17</td>\n",
       "      <td>141</td>\n",
       "      <td>23</td>\n",
       "      <td>18</td>\n",
       "      <td>2</td>\n",
       "      <td>NaN</td>\n",
       "      <td>1</td>\n",
       "    </tr>\n",
       "    <tr>\n",
       "      <th>1</th>\n",
       "      <td>VHL18827</td>\n",
       "      <td>1</td>\n",
       "      <td>19</td>\n",
       "      <td>1202</td>\n",
       "      <td>24</td>\n",
       "      <td>18</td>\n",
       "      <td>2</td>\n",
       "      <td>125,000</td>\n",
       "      <td>1</td>\n",
       "    </tr>\n",
       "    <tr>\n",
       "      <th>2</th>\n",
       "      <td>VHL19499</td>\n",
       "      <td>2</td>\n",
       "      <td>29</td>\n",
       "      <td>1038</td>\n",
       "      <td>22</td>\n",
       "      <td>17</td>\n",
       "      <td>1</td>\n",
       "      <td>110,852</td>\n",
       "      <td>1</td>\n",
       "    </tr>\n",
       "    <tr>\n",
       "      <th>3</th>\n",
       "      <td>VHL17991</td>\n",
       "      <td>0</td>\n",
       "      <td>34</td>\n",
       "      <td>588</td>\n",
       "      <td>29</td>\n",
       "      <td>3</td>\n",
       "      <td>1</td>\n",
       "      <td>30,000</td>\n",
       "      <td>1</td>\n",
       "    </tr>\n",
       "    <tr>\n",
       "      <th>4</th>\n",
       "      <td>VHL12170</td>\n",
       "      <td>1</td>\n",
       "      <td>53</td>\n",
       "      <td>657</td>\n",
       "      <td>14</td>\n",
       "      <td>17</td>\n",
       "      <td>2</td>\n",
       "      <td>125,206</td>\n",
       "      <td>1</td>\n",
       "    </tr>\n",
       "  </tbody>\n",
       "</table>\n",
       "</div>"
      ],
      "text/plain": [
       "  VehicleID  Location  Maker  Model  Year  Colour  Type Distance  train\n",
       "0  VHL12546         0     17    141    23      18     2      NaN      1\n",
       "1  VHL18827         1     19   1202    24      18     2  125,000      1\n",
       "2  VHL19499         2     29   1038    22      17     1  110,852      1\n",
       "3  VHL17991         0     34    588    29       3     1   30,000      1\n",
       "4  VHL12170         1     53    657    14      17     2  125,206      1"
      ]
     },
     "execution_count": 31,
     "metadata": {},
     "output_type": "execute_result"
    }
   ],
   "source": [
    "all_data.head()"
   ]
  },
  {
   "cell_type": "markdown",
   "id": "6a317323-6ef8-4758-873d-aba0ae2972b4",
   "metadata": {},
   "source": []
  },
  {
   "cell_type": "markdown",
   "id": "f3e40e30-a548-4b03-8766-0093ca0e7e98",
   "metadata": {},
   "source": []
  },
  {
   "cell_type": "code",
   "execution_count": 32,
   "id": "e2177294-edf5-4b71-bb66-100f854705d1",
   "metadata": {},
   "outputs": [],
   "source": [
    "all_data = all_data.drop(['VehicleID','Distance','Location'],axis = 1)"
   ]
  },
  {
   "cell_type": "markdown",
   "id": "66458576-779b-45a6-a438-8b072105349e",
   "metadata": {},
   "source": []
  },
  {
   "cell_type": "code",
   "execution_count": 33,
   "id": "9eb54692-4418-4453-8e5f-eb21057530ab",
   "metadata": {},
   "outputs": [
    {
     "data": {
      "text/html": [
       "<div>\n",
       "<style scoped>\n",
       "    .dataframe tbody tr th:only-of-type {\n",
       "        vertical-align: middle;\n",
       "    }\n",
       "\n",
       "    .dataframe tbody tr th {\n",
       "        vertical-align: top;\n",
       "    }\n",
       "\n",
       "    .dataframe thead th {\n",
       "        text-align: right;\n",
       "    }\n",
       "</style>\n",
       "<table border=\"1\" class=\"dataframe\">\n",
       "  <thead>\n",
       "    <tr style=\"text-align: right;\">\n",
       "      <th></th>\n",
       "      <th>Maker</th>\n",
       "      <th>Model</th>\n",
       "      <th>Year</th>\n",
       "      <th>Colour</th>\n",
       "      <th>Type</th>\n",
       "      <th>train</th>\n",
       "      <th>2</th>\n",
       "      <th>0</th>\n",
       "      <th>1</th>\n",
       "      <th>h</th>\n",
       "      <th>...</th>\n",
       "      <th>4</th>\n",
       "      <th>.</th>\n",
       "      <th>8</th>\n",
       "      <th>+</th>\n",
       "      <th>(</th>\n",
       "      <th>)</th>\n",
       "      <th>q</th>\n",
       "      <th>j</th>\n",
       "      <th>/</th>\n",
       "      <th>&amp;</th>\n",
       "    </tr>\n",
       "  </thead>\n",
       "  <tbody>\n",
       "    <tr>\n",
       "      <th>0</th>\n",
       "      <td>17</td>\n",
       "      <td>141</td>\n",
       "      <td>23</td>\n",
       "      <td>18</td>\n",
       "      <td>2</td>\n",
       "      <td>1</td>\n",
       "      <td>4</td>\n",
       "      <td>0</td>\n",
       "      <td>0</td>\n",
       "      <td>0</td>\n",
       "      <td>...</td>\n",
       "      <td>0</td>\n",
       "      <td>3</td>\n",
       "      <td>2</td>\n",
       "      <td>0</td>\n",
       "      <td>2</td>\n",
       "      <td>2</td>\n",
       "      <td>0</td>\n",
       "      <td>1</td>\n",
       "      <td>0</td>\n",
       "      <td>0</td>\n",
       "    </tr>\n",
       "    <tr>\n",
       "      <th>1</th>\n",
       "      <td>19</td>\n",
       "      <td>1202</td>\n",
       "      <td>24</td>\n",
       "      <td>18</td>\n",
       "      <td>2</td>\n",
       "      <td>1</td>\n",
       "      <td>1</td>\n",
       "      <td>0</td>\n",
       "      <td>0</td>\n",
       "      <td>0</td>\n",
       "      <td>...</td>\n",
       "      <td>0</td>\n",
       "      <td>2</td>\n",
       "      <td>3</td>\n",
       "      <td>1</td>\n",
       "      <td>2</td>\n",
       "      <td>1</td>\n",
       "      <td>0</td>\n",
       "      <td>0</td>\n",
       "      <td>1</td>\n",
       "      <td>0</td>\n",
       "    </tr>\n",
       "    <tr>\n",
       "      <th>2</th>\n",
       "      <td>29</td>\n",
       "      <td>1038</td>\n",
       "      <td>22</td>\n",
       "      <td>17</td>\n",
       "      <td>1</td>\n",
       "      <td>1</td>\n",
       "      <td>2</td>\n",
       "      <td>0</td>\n",
       "      <td>0</td>\n",
       "      <td>0</td>\n",
       "      <td>...</td>\n",
       "      <td>0</td>\n",
       "      <td>3</td>\n",
       "      <td>2</td>\n",
       "      <td>0</td>\n",
       "      <td>2</td>\n",
       "      <td>0</td>\n",
       "      <td>0</td>\n",
       "      <td>2</td>\n",
       "      <td>0</td>\n",
       "      <td>0</td>\n",
       "    </tr>\n",
       "    <tr>\n",
       "      <th>3</th>\n",
       "      <td>34</td>\n",
       "      <td>588</td>\n",
       "      <td>29</td>\n",
       "      <td>3</td>\n",
       "      <td>1</td>\n",
       "      <td>1</td>\n",
       "      <td>1</td>\n",
       "      <td>0</td>\n",
       "      <td>0</td>\n",
       "      <td>0</td>\n",
       "      <td>...</td>\n",
       "      <td>0</td>\n",
       "      <td>2</td>\n",
       "      <td>4</td>\n",
       "      <td>0</td>\n",
       "      <td>2</td>\n",
       "      <td>0</td>\n",
       "      <td>0</td>\n",
       "      <td>0</td>\n",
       "      <td>0</td>\n",
       "      <td>1</td>\n",
       "    </tr>\n",
       "    <tr>\n",
       "      <th>4</th>\n",
       "      <td>53</td>\n",
       "      <td>657</td>\n",
       "      <td>14</td>\n",
       "      <td>17</td>\n",
       "      <td>2</td>\n",
       "      <td>1</td>\n",
       "      <td>1</td>\n",
       "      <td>0</td>\n",
       "      <td>0</td>\n",
       "      <td>0</td>\n",
       "      <td>...</td>\n",
       "      <td>0</td>\n",
       "      <td>3</td>\n",
       "      <td>1</td>\n",
       "      <td>2</td>\n",
       "      <td>1</td>\n",
       "      <td>0</td>\n",
       "      <td>0</td>\n",
       "      <td>0</td>\n",
       "      <td>1</td>\n",
       "      <td>0</td>\n",
       "    </tr>\n",
       "  </tbody>\n",
       "</table>\n",
       "<p>5 rows × 50 columns</p>\n",
       "</div>"
      ],
      "text/plain": [
       "   Maker  Model  Year  Colour  Type  train  2  0  1  h  ...  4  .  8  +  (  )  \\\n",
       "0     17    141    23      18     2      1  4  0  0  0  ...  0  3  2  0  2  2   \n",
       "1     19   1202    24      18     2      1  1  0  0  0  ...  0  2  3  1  2  1   \n",
       "2     29   1038    22      17     1      1  2  0  0  0  ...  0  3  2  0  2  0   \n",
       "3     34    588    29       3     1      1  1  0  0  0  ...  0  2  4  0  2  0   \n",
       "4     53    657    14      17     2      1  1  0  0  0  ...  0  3  1  2  1  0   \n",
       "\n",
       "   q  j  /  &  \n",
       "0  0  1  0  0  \n",
       "1  0  0  1  0  \n",
       "2  0  2  0  0  \n",
       "3  0  0  0  1  \n",
       "4  0  0  1  0  \n",
       "\n",
       "[5 rows x 50 columns]"
      ]
     },
     "execution_count": 33,
     "metadata": {},
     "output_type": "execute_result"
    }
   ],
   "source": [
    "all_data = pd.concat([all_data,letter_data],axis = 1)\n",
    "all_data.head()"
   ]
  },
  {
   "cell_type": "markdown",
   "id": "e8755943-5543-42d0-92fc-48a59a3d8249",
   "metadata": {},
   "source": []
  },
  {
   "cell_type": "code",
   "execution_count": 34,
   "id": "e7f90f32-560d-4617-b0cf-64acbde056eb",
   "metadata": {},
   "outputs": [],
   "source": [
    "train_set = all_data[all_data.train == 1]\n",
    "test_set = all_data[all_data.train == 0]"
   ]
  },
  {
   "cell_type": "code",
   "execution_count": 35,
   "id": "6f3282ad-5060-4182-a5f3-c826067778e1",
   "metadata": {},
   "outputs": [],
   "source": [
    "train_set =  train_set.drop('train',axis = 1)\n",
    "test_set =  test_set.drop('train',axis = 1)"
   ]
  },
  {
   "cell_type": "code",
   "execution_count": 36,
   "id": "091cc900-217a-4b77-8bd2-ce94b3acd854",
   "metadata": {},
   "outputs": [
    {
     "data": {
      "text/html": [
       "<div>\n",
       "<style scoped>\n",
       "    .dataframe tbody tr th:only-of-type {\n",
       "        vertical-align: middle;\n",
       "    }\n",
       "\n",
       "    .dataframe tbody tr th {\n",
       "        vertical-align: top;\n",
       "    }\n",
       "\n",
       "    .dataframe thead th {\n",
       "        text-align: right;\n",
       "    }\n",
       "</style>\n",
       "<table border=\"1\" class=\"dataframe\">\n",
       "  <thead>\n",
       "    <tr style=\"text-align: right;\">\n",
       "      <th></th>\n",
       "      <th>Maker</th>\n",
       "      <th>Model</th>\n",
       "      <th>Year</th>\n",
       "      <th>Colour</th>\n",
       "      <th>Type</th>\n",
       "      <th>2</th>\n",
       "      <th>0</th>\n",
       "      <th>1</th>\n",
       "      <th>h</th>\n",
       "      <th>o</th>\n",
       "      <th>...</th>\n",
       "      <th>4</th>\n",
       "      <th>.</th>\n",
       "      <th>8</th>\n",
       "      <th>+</th>\n",
       "      <th>(</th>\n",
       "      <th>)</th>\n",
       "      <th>q</th>\n",
       "      <th>j</th>\n",
       "      <th>/</th>\n",
       "      <th>&amp;</th>\n",
       "    </tr>\n",
       "  </thead>\n",
       "  <tbody>\n",
       "    <tr>\n",
       "      <th>0</th>\n",
       "      <td>17</td>\n",
       "      <td>141</td>\n",
       "      <td>23</td>\n",
       "      <td>18</td>\n",
       "      <td>2</td>\n",
       "      <td>4</td>\n",
       "      <td>0</td>\n",
       "      <td>0</td>\n",
       "      <td>0</td>\n",
       "      <td>0</td>\n",
       "      <td>...</td>\n",
       "      <td>0</td>\n",
       "      <td>3</td>\n",
       "      <td>2</td>\n",
       "      <td>0</td>\n",
       "      <td>2</td>\n",
       "      <td>2</td>\n",
       "      <td>0</td>\n",
       "      <td>1</td>\n",
       "      <td>0</td>\n",
       "      <td>0</td>\n",
       "    </tr>\n",
       "    <tr>\n",
       "      <th>1</th>\n",
       "      <td>19</td>\n",
       "      <td>1202</td>\n",
       "      <td>24</td>\n",
       "      <td>18</td>\n",
       "      <td>2</td>\n",
       "      <td>1</td>\n",
       "      <td>0</td>\n",
       "      <td>0</td>\n",
       "      <td>0</td>\n",
       "      <td>0</td>\n",
       "      <td>...</td>\n",
       "      <td>0</td>\n",
       "      <td>2</td>\n",
       "      <td>3</td>\n",
       "      <td>1</td>\n",
       "      <td>2</td>\n",
       "      <td>1</td>\n",
       "      <td>0</td>\n",
       "      <td>0</td>\n",
       "      <td>1</td>\n",
       "      <td>0</td>\n",
       "    </tr>\n",
       "    <tr>\n",
       "      <th>2</th>\n",
       "      <td>29</td>\n",
       "      <td>1038</td>\n",
       "      <td>22</td>\n",
       "      <td>17</td>\n",
       "      <td>1</td>\n",
       "      <td>2</td>\n",
       "      <td>0</td>\n",
       "      <td>0</td>\n",
       "      <td>0</td>\n",
       "      <td>0</td>\n",
       "      <td>...</td>\n",
       "      <td>0</td>\n",
       "      <td>3</td>\n",
       "      <td>2</td>\n",
       "      <td>0</td>\n",
       "      <td>2</td>\n",
       "      <td>0</td>\n",
       "      <td>0</td>\n",
       "      <td>2</td>\n",
       "      <td>0</td>\n",
       "      <td>0</td>\n",
       "    </tr>\n",
       "    <tr>\n",
       "      <th>3</th>\n",
       "      <td>34</td>\n",
       "      <td>588</td>\n",
       "      <td>29</td>\n",
       "      <td>3</td>\n",
       "      <td>1</td>\n",
       "      <td>1</td>\n",
       "      <td>0</td>\n",
       "      <td>0</td>\n",
       "      <td>0</td>\n",
       "      <td>0</td>\n",
       "      <td>...</td>\n",
       "      <td>0</td>\n",
       "      <td>2</td>\n",
       "      <td>4</td>\n",
       "      <td>0</td>\n",
       "      <td>2</td>\n",
       "      <td>0</td>\n",
       "      <td>0</td>\n",
       "      <td>0</td>\n",
       "      <td>0</td>\n",
       "      <td>1</td>\n",
       "    </tr>\n",
       "    <tr>\n",
       "      <th>4</th>\n",
       "      <td>53</td>\n",
       "      <td>657</td>\n",
       "      <td>14</td>\n",
       "      <td>17</td>\n",
       "      <td>2</td>\n",
       "      <td>1</td>\n",
       "      <td>0</td>\n",
       "      <td>0</td>\n",
       "      <td>0</td>\n",
       "      <td>0</td>\n",
       "      <td>...</td>\n",
       "      <td>0</td>\n",
       "      <td>3</td>\n",
       "      <td>1</td>\n",
       "      <td>2</td>\n",
       "      <td>1</td>\n",
       "      <td>0</td>\n",
       "      <td>0</td>\n",
       "      <td>0</td>\n",
       "      <td>1</td>\n",
       "      <td>0</td>\n",
       "    </tr>\n",
       "  </tbody>\n",
       "</table>\n",
       "<p>5 rows × 49 columns</p>\n",
       "</div>"
      ],
      "text/plain": [
       "   Maker  Model  Year  Colour  Type  2  0  1  h  o  ...  4  .  8  +  (  )  q  \\\n",
       "0     17    141    23      18     2  4  0  0  0  0  ...  0  3  2  0  2  2  0   \n",
       "1     19   1202    24      18     2  1  0  0  0  0  ...  0  2  3  1  2  1  0   \n",
       "2     29   1038    22      17     1  2  0  0  0  0  ...  0  3  2  0  2  0  0   \n",
       "3     34    588    29       3     1  1  0  0  0  0  ...  0  2  4  0  2  0  0   \n",
       "4     53    657    14      17     2  1  0  0  0  0  ...  0  3  1  2  1  0  0   \n",
       "\n",
       "   j  /  &  \n",
       "0  1  0  0  \n",
       "1  0  1  0  \n",
       "2  2  0  0  \n",
       "3  0  0  1  \n",
       "4  0  1  0  \n",
       "\n",
       "[5 rows x 49 columns]"
      ]
     },
     "execution_count": 36,
     "metadata": {},
     "output_type": "execute_result"
    }
   ],
   "source": [
    "train_set.head()"
   ]
  },
  {
   "cell_type": "code",
   "execution_count": 37,
   "id": "3e8f1f5f-0882-47a9-839e-8425548935e2",
   "metadata": {},
   "outputs": [
    {
     "data": {
      "text/html": [
       "<div>\n",
       "<style scoped>\n",
       "    .dataframe tbody tr th:only-of-type {\n",
       "        vertical-align: middle;\n",
       "    }\n",
       "\n",
       "    .dataframe tbody tr th {\n",
       "        vertical-align: top;\n",
       "    }\n",
       "\n",
       "    .dataframe thead th {\n",
       "        text-align: right;\n",
       "    }\n",
       "</style>\n",
       "<table border=\"1\" class=\"dataframe\">\n",
       "  <thead>\n",
       "    <tr style=\"text-align: right;\">\n",
       "      <th></th>\n",
       "      <th>Maker</th>\n",
       "      <th>Model</th>\n",
       "      <th>Year</th>\n",
       "      <th>Colour</th>\n",
       "      <th>Type</th>\n",
       "      <th>2</th>\n",
       "      <th>0</th>\n",
       "      <th>1</th>\n",
       "      <th>h</th>\n",
       "      <th>o</th>\n",
       "      <th>...</th>\n",
       "      <th>4</th>\n",
       "      <th>.</th>\n",
       "      <th>8</th>\n",
       "      <th>+</th>\n",
       "      <th>(</th>\n",
       "      <th>)</th>\n",
       "      <th>q</th>\n",
       "      <th>j</th>\n",
       "      <th>/</th>\n",
       "      <th>&amp;</th>\n",
       "    </tr>\n",
       "  </thead>\n",
       "  <tbody>\n",
       "    <tr>\n",
       "      <th>7188</th>\n",
       "      <td>3</td>\n",
       "      <td>27</td>\n",
       "      <td>20</td>\n",
       "      <td>22</td>\n",
       "      <td>1</td>\n",
       "      <td>1</td>\n",
       "      <td>0</td>\n",
       "      <td>0</td>\n",
       "      <td>0</td>\n",
       "      <td>0</td>\n",
       "      <td>...</td>\n",
       "      <td>0</td>\n",
       "      <td>1</td>\n",
       "      <td>1</td>\n",
       "      <td>1</td>\n",
       "      <td>1</td>\n",
       "      <td>0</td>\n",
       "      <td>2</td>\n",
       "      <td>0</td>\n",
       "      <td>0</td>\n",
       "      <td>0</td>\n",
       "    </tr>\n",
       "    <tr>\n",
       "      <th>7189</th>\n",
       "      <td>53</td>\n",
       "      <td>316</td>\n",
       "      <td>25</td>\n",
       "      <td>22</td>\n",
       "      <td>1</td>\n",
       "      <td>1</td>\n",
       "      <td>0</td>\n",
       "      <td>0</td>\n",
       "      <td>0</td>\n",
       "      <td>0</td>\n",
       "      <td>...</td>\n",
       "      <td>0</td>\n",
       "      <td>2</td>\n",
       "      <td>1</td>\n",
       "      <td>3</td>\n",
       "      <td>1</td>\n",
       "      <td>0</td>\n",
       "      <td>1</td>\n",
       "      <td>0</td>\n",
       "      <td>2</td>\n",
       "      <td>0</td>\n",
       "    </tr>\n",
       "    <tr>\n",
       "      <th>7190</th>\n",
       "      <td>53</td>\n",
       "      <td>672</td>\n",
       "      <td>17</td>\n",
       "      <td>8</td>\n",
       "      <td>1</td>\n",
       "      <td>3</td>\n",
       "      <td>0</td>\n",
       "      <td>0</td>\n",
       "      <td>0</td>\n",
       "      <td>0</td>\n",
       "      <td>...</td>\n",
       "      <td>0</td>\n",
       "      <td>2</td>\n",
       "      <td>1</td>\n",
       "      <td>3</td>\n",
       "      <td>1</td>\n",
       "      <td>1</td>\n",
       "      <td>0</td>\n",
       "      <td>0</td>\n",
       "      <td>1</td>\n",
       "      <td>0</td>\n",
       "    </tr>\n",
       "    <tr>\n",
       "      <th>7191</th>\n",
       "      <td>53</td>\n",
       "      <td>316</td>\n",
       "      <td>23</td>\n",
       "      <td>9</td>\n",
       "      <td>1</td>\n",
       "      <td>1</td>\n",
       "      <td>0</td>\n",
       "      <td>0</td>\n",
       "      <td>0</td>\n",
       "      <td>0</td>\n",
       "      <td>...</td>\n",
       "      <td>0</td>\n",
       "      <td>3</td>\n",
       "      <td>1</td>\n",
       "      <td>2</td>\n",
       "      <td>1</td>\n",
       "      <td>0</td>\n",
       "      <td>0</td>\n",
       "      <td>0</td>\n",
       "      <td>3</td>\n",
       "      <td>0</td>\n",
       "    </tr>\n",
       "    <tr>\n",
       "      <th>7192</th>\n",
       "      <td>29</td>\n",
       "      <td>483</td>\n",
       "      <td>25</td>\n",
       "      <td>17</td>\n",
       "      <td>1</td>\n",
       "      <td>3</td>\n",
       "      <td>0</td>\n",
       "      <td>0</td>\n",
       "      <td>0</td>\n",
       "      <td>0</td>\n",
       "      <td>...</td>\n",
       "      <td>0</td>\n",
       "      <td>2</td>\n",
       "      <td>3</td>\n",
       "      <td>0</td>\n",
       "      <td>2</td>\n",
       "      <td>0</td>\n",
       "      <td>1</td>\n",
       "      <td>1</td>\n",
       "      <td>0</td>\n",
       "      <td>0</td>\n",
       "    </tr>\n",
       "  </tbody>\n",
       "</table>\n",
       "<p>5 rows × 49 columns</p>\n",
       "</div>"
      ],
      "text/plain": [
       "      Maker  Model  Year  Colour  Type  2  0  1  h  o  ...  4  .  8  +  (  )  \\\n",
       "7188      3     27    20      22     1  1  0  0  0  0  ...  0  1  1  1  1  0   \n",
       "7189     53    316    25      22     1  1  0  0  0  0  ...  0  2  1  3  1  0   \n",
       "7190     53    672    17       8     1  3  0  0  0  0  ...  0  2  1  3  1  1   \n",
       "7191     53    316    23       9     1  1  0  0  0  0  ...  0  3  1  2  1  0   \n",
       "7192     29    483    25      17     1  3  0  0  0  0  ...  0  2  3  0  2  0   \n",
       "\n",
       "      q  j  /  &  \n",
       "7188  2  0  0  0  \n",
       "7189  1  0  2  0  \n",
       "7190  0  0  1  0  \n",
       "7191  0  0  3  0  \n",
       "7192  1  1  0  0  \n",
       "\n",
       "[5 rows x 49 columns]"
      ]
     },
     "execution_count": 37,
     "metadata": {},
     "output_type": "execute_result"
    }
   ],
   "source": [
    "test_set.head()"
   ]
  },
  {
   "cell_type": "markdown",
   "id": "9c13665a-62ac-4807-a051-b1f35f15c61f",
   "metadata": {},
   "source": []
  },
  {
   "cell_type": "code",
   "execution_count": 38,
   "id": "07c6eafc-129e-4ed0-94a0-56353b024916",
   "metadata": {},
   "outputs": [],
   "source": [
    "X = train_set\n",
    "y = target_col\n",
    "X_train, X_test, y_train, y_test = train_test_split(X, y, test_size=0.1, random_state=42)"
   ]
  },
  {
   "cell_type": "code",
   "execution_count": null,
   "id": "4023c19c-3c80-44e3-ad72-29032adc7268",
   "metadata": {},
   "outputs": [],
   "source": []
  },
  {
   "cell_type": "code",
   "execution_count": 39,
   "id": "7f633665-6d2a-4b19-9ddb-385859cb7e7c",
   "metadata": {},
   "outputs": [],
   "source": [
    "r1 = XGBRegressor(random_state = 42)\n",
    "r2 = RandomForestRegressor(random_state=42)\n",
    "r3 = CatBoostRegressor(verbose=False,random_state = 42)\n"
   ]
  },
  {
   "cell_type": "markdown",
   "id": "3e0acca5-890d-4109-8ea6-856fb78bfe9f",
   "metadata": {},
   "source": []
  },
  {
   "cell_type": "code",
   "execution_count": 40,
   "id": "63153330-91d4-4e12-bc71-2fd084fed1b0",
   "metadata": {},
   "outputs": [
    {
     "data": {
      "text/plain": [
       "3.7904637044015597"
      ]
     },
     "execution_count": 40,
     "metadata": {},
     "output_type": "execute_result"
    }
   ],
   "source": [
    "model = VotingRegressor([('r1', r1),('rf', r2),('r3',r3)],weights=(1,1,1))\n",
    "model.fit(X,y)\n",
    "val_pred = model.predict(X_test)\n",
    "np.sqrt(mean_squared_error(y_test,val_pred))"
   ]
  },
  {
   "cell_type": "code",
   "execution_count": 41,
   "id": "e90d0064-5768-4db3-98f8-7f02c98d47c0",
   "metadata": {},
   "outputs": [],
   "source": [
    "test =  test_set\n",
    "test_pred =  model.predict(test)"
   ]
  },
  {
   "cell_type": "code",
   "execution_count": 42,
   "id": "d2fb02fb-cb88-41d2-8e7b-46f60ee573f9",
   "metadata": {},
   "outputs": [],
   "source": [
    "sub['Amount (Million Naira)'] = test_pred\n",
    "sub.to_csv('sub_file.csv',index =  False)"
   ]
  },
  {
   "cell_type": "markdown",
   "id": "736968b6-0c8d-4615-9b1c-d4727533dce1",
   "metadata": {},
   "source": []
  },
  {
   "cell_type": "markdown",
   "id": "9f4d6824-ba4f-4135-a70f-9af015b01f58",
   "metadata": {},
   "source": []
  },
  {
   "cell_type": "code",
   "execution_count": null,
   "id": "60581fb0-0833-470e-b0c7-d13a9bfeba85",
   "metadata": {},
   "outputs": [],
   "source": []
  },
  {
   "cell_type": "markdown",
   "id": "2179225b-4c56-4e33-858c-6c062ab48801",
   "metadata": {},
   "source": []
  },
  {
   "cell_type": "markdown",
   "id": "f31f8d00-6477-411d-83eb-52c99d40a6d4",
   "metadata": {},
   "source": []
  },
  {
   "cell_type": "code",
   "execution_count": 44,
   "id": "aec7b311-6971-43de-b6a5-aa0bc60115b4",
   "metadata": {},
   "outputs": [],
   "source": [
    "fold = KFold(n_splits=10 )"
   ]
  },
  {
   "cell_type": "code",
   "execution_count": 45,
   "id": "05fd31c2",
   "metadata": {},
   "outputs": [
    {
     "data": {
      "text/plain": [
       "array([0.84083293, 0.68107062, 0.79459231, 0.77976287, 0.91527505,\n",
       "       0.86982066, 0.67871313, 0.9076456 , 0.79911431, 0.55871159])"
      ]
     },
     "execution_count": 45,
     "metadata": {},
     "output_type": "execute_result"
    }
   ],
   "source": [
    "cross_val_score(model, X,y, cv = fold)"
   ]
  },
  {
   "cell_type": "code",
   "execution_count": null,
   "id": "9fecae60",
   "metadata": {},
   "outputs": [],
   "source": []
  }
 ],
 "metadata": {
  "kernelspec": {
   "display_name": "Python 3 (ipykernel)",
   "language": "python",
   "name": "python3"
  },
  "language_info": {
   "codemirror_mode": {
    "name": "ipython",
    "version": 3
   },
   "file_extension": ".py",
   "mimetype": "text/x-python",
   "name": "python",
   "nbconvert_exporter": "python",
   "pygments_lexer": "ipython3",
   "version": "3.9.7"
  }
 },
 "nbformat": 4,
 "nbformat_minor": 5
}
